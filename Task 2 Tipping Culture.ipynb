{
 "cells": [
  {
   "cell_type": "markdown",
   "id": "5eee59e3",
   "metadata": {},
   "source": [
    "## Task 2: Tipping Culture\n",
    "\n",
    "The CIA also publishes information about 262 countries: https://www.cia.gov/the-world-factbook/countries/. Use the page's API to randomly select 20 countries and report on the tipping cultures in those countries. You can find that information in the Travel Facts page for each country.\n",
    "\n"
   ]
  },
  {
   "cell_type": "code",
   "execution_count": 10,
   "id": "bd47e2c5",
   "metadata": {},
   "outputs": [],
   "source": [
    "import json\n",
    "\n",
    "url = 'https://www.cia.gov/the-world-factbook/page-data/countries/page-data.json'\n",
    "\n",
    "response = requests.get(url)\n",
    "ct_ls = json.loads(response.text)['result']['data']['countries']['edges']\n",
    "\n",
    "\n",
    "country_ls = [i['node']['title'] for i in ct_ls]"
   ]
  },
  {
   "cell_type": "markdown",
   "id": "a77575d9",
   "metadata": {},
   "source": [
    "We have got the list of country names in the code above, then we can randomly select 20 countries."
   ]
  },
  {
   "cell_type": "code",
   "execution_count": 11,
   "id": "f2215a3f",
   "metadata": {},
   "outputs": [
    {
     "data": {
      "text/plain": [
       "['navassa-island',\n",
       " 'ethiopia',\n",
       " 'saint-vincent-and-the-grenadines',\n",
       " 'belize',\n",
       " 'burkina-faso',\n",
       " 'china',\n",
       " 'philippines',\n",
       " 'bosnia-and-herzegovina',\n",
       " 'yemen',\n",
       " 'iceland',\n",
       " 'baker-island',\n",
       " 'cayman-islands',\n",
       " 'sri-lanka',\n",
       " 'slovenia',\n",
       " 'brunei',\n",
       " 'johnston-atoll',\n",
       " 'chad',\n",
       " 'south-africa',\n",
       " 'botswana',\n",
       " 'cyprus']"
      ]
     },
     "execution_count": 11,
     "metadata": {},
     "output_type": "execute_result"
    }
   ],
   "source": [
    "import random\n",
    "\n",
    "random.seed(7)\n",
    "lucky_country = random.sample(country_ls, 20)\n",
    "\n",
    "#convert them to the standard form of url link.\n",
    "lucky_countrys = [c.replace(' ','-').replace(',','-').lower() for c in lucky_country]\n",
    "lucky_countrys"
   ]
  },
  {
   "cell_type": "code",
   "execution_count": 12,
   "id": "3be532f5",
   "metadata": {},
   "outputs": [
    {
     "name": "stdout",
     "output_type": "stream",
     "text": [
      "navassa-island does not have Travel Facts page\n",
      "baker-island does not have Travel Facts page\n",
      "johnston-atoll does not have Travel Facts page\n"
     ]
    }
   ],
   "source": [
    "url_2 = 'https://www.cia.gov/the-world-factbook/countries/'\n",
    "\n",
    "tipping_ls = []\n",
    "for country in lucky_countrys:\n",
    "    title_ls = []\n",
    "    content_ls = []\n",
    "    country_link = requests.get(url_2 + str(country) + '/travel-facts')#get the url link of travel facts page.\n",
    "    \n",
    "    #Since some countres don't have travel facts page, we need to find them.\n",
    "    if country_link.status_code == 404:\n",
    "        tipping_ls.append('None')\n",
    "        print(f'{country} does not have Travel Facts page')\n",
    "    else:\n",
    "        country_response = BeautifulSoup(country_link.text, 'html.parser')\n",
    "        title = country_response.find_all('h3' ,attrs = {'mt30'})#get titles of all the travel facts\n",
    "        content = country_response.select('p')[:len(title)]#get content of all the travel facts\n",
    "\n",
    "        for i in range(len(title)):\n",
    "            title_ls.append(title[i].getText())\n",
    "            content_ls.append(content[i].getText())   \n",
    "        tipping_ls.append(content_ls[title_ls.index('Tipping Guidelines')])#get the content of Tipping Guidelines"
   ]
  },
  {
   "cell_type": "code",
   "execution_count": 13,
   "id": "940918ef",
   "metadata": {
    "scrolled": true
   },
   "outputs": [
    {
     "data": {
      "text/plain": [
       "{'Navassa Island': 'None',\n",
       " 'Ethiopia': 'A 10-15% tip is normal for good service at restaurants and in bars. Tip $1 (USD) per bag for bellhops who carry luggage to your room and $1-2 (USD) per day for hotel staff.',\n",
       " 'Saint Vincent and the Grenadines': 'A service charge of 10% is usually added to a restaurant or hotel bill, but if not, leave at least 10-15% depending on your satisfaction with the service. Tip taxi drivers 10%, bellhops $2 (USD) per bag, and housekeeping $2 per night.',\n",
       " 'Belize': 'A tip between 15-20% is appropriate in restaurants and bars. Tipping taxi drivers is typically rare because metropolitan prices are low. A tip somewhere between 5-15% of the total bill is appropriate for hotel staff.',\n",
       " 'Burkina Faso': 'A 10-15% service charge is usually included in the bill for restaurants. However, it is customary to tip taxi drivers and hotel staff.',\n",
       " 'China': 'Tipping is not officially recognized, though the practice has become increasingly common among tour guides, top-end restaurants, tour bus drivers, and hotel staff. Tipping about 10% is appreciated. Make sure a service charge has not already been included. Taxi drivers often do not accept tips.',\n",
       " 'Philippines': 'Do not feel pressure to leave a tip if the service is poor. Locals often round up the taxi fare.',\n",
       " 'Bosnia and Herzegovina': 'It is common to leave a 10-15% tip for good restaurant service. Bartenders and wait staff do not include a tip on the bill. Taxi drivers will often round their fare up, but a few extra markas will go a long way. A tip of 50 cents (USD) a night is appropriate for hotel maid staff.',\n",
       " 'Yemen': 'Leave a 10% tip in finer restaurants; otherwise round up the bill.',\n",
       " 'Iceland': 'Tipping is not expected at hotels and restaurants since most bills include a service charge for gratuities. Round up taxi fares.',\n",
       " 'Baker Island': 'None',\n",
       " 'Cayman Islands': 'Tipping is usually expected everywhere you go to eat or drink. Even though many eating establishments may include a service charge; service staff in restaurants and bars rely on tips for a large portion of their salary.',\n",
       " 'Sri Lanka': 'Tipping 10% is customary in restaurants; if a service charge is included, leave a few extra rupees. Tip bar staff 100 rupees as you leave. Conventionally, 50-100 rupees is a good tip for hotel staff, including porters, room cleaners, and room service personnel. Tip taxi drivers 10% of the fare.',\n",
       " 'Slovenia': 'In larger cities and major tourist areas, it is customary to leave about 10% of the bill; if you receive exceptional service, leave 15%.',\n",
       " 'Brunei': 'Tipping is not customary. Large hotels and restaurants may add a 10% service charge to the bill. Taxi drivers do not expect tips.',\n",
       " 'Johnston Atoll': 'None',\n",
       " 'Chad': 'Service charges are not usually included in restaurants and tips of 10% for waiters are acceptable. Taxi fares should be rounded up if the service is good.',\n",
       " 'South Africa': 'It is customary to tip 10-15% for good service in restaurants. For private drivers, 100 rand per person per day is appropriate.',\n",
       " 'Botswana': 'Tip $1-2 (USD) per bag for porters to bring luggage to your room. A $1-2 (USD) tip for hotel staff is also common. A $10 (USD) per day tip is average for guides.',\n",
       " 'Cyprus': 'At restaurants, tipping 2-3 euros is sufficient. For taxis, rounding up to the nearest euro - or 5% of the final fare for exceptional service- is appreciated.'}"
      ]
     },
     "execution_count": 13,
     "metadata": {},
     "output_type": "execute_result"
    }
   ],
   "source": [
    "dict(zip(lucky_country, tipping_ls))"
   ]
  },
  {
   "cell_type": "code",
   "execution_count": null,
   "id": "b5e3ff19",
   "metadata": {},
   "outputs": [],
   "source": [
    "## Task 2: Tipping Culture\n",
    "\n",
    "The CIA also publishes information about 262 countries: https://www.cia.gov/the-world-factbook/countries/. Use the page's API to randomly select 20 countries and report on the tipping cultures in those countries. You can find that information in the Travel Facts page for each country.\n",
    "\n",
    "\n",
    "\n",
    "import json\n",
    "\n",
    "url = 'https://www.cia.gov/the-world-factbook/page-data/countries/page-data.json'\n",
    "\n",
    "response = requests.get(url)\n",
    "ct_ls = json.loads(response.text)['result']['data']['countries']['edges']\n",
    "\n",
    "\n",
    "country_ls = [i['node']['title'] for i in ct_ls]\n",
    "\n",
    "We have got the list of country names in the code above, then we can randomly select 20 countries.\n",
    "\n",
    "import random\n",
    "\n",
    "random.seed(7)\n",
    "lucky_country = random.sample(country_ls, 20)\n",
    "\n",
    "#convert them to the standard form of url link.\n",
    "lucky_countrys = [c.replace(' ','-').replace(',','-').lower() for c in lucky_country]\n",
    "lucky_countrys\n",
    "\n",
    "url_2 = 'https://www.cia.gov/the-world-factbook/countries/'\n",
    "\n",
    "tipping_ls = []\n",
    "for country in lucky_countrys:\n",
    "    title_ls = []\n",
    "    content_ls = []\n",
    "    country_link = requests.get(url_2 + str(country) + '/travel-facts')#get the url link of travel facts page.\n",
    "    \n",
    "    #Since some countres don't have travel facts page, we need to find them.\n",
    "    if country_link.status_code == 404:\n",
    "        tipping_ls.append('None')\n",
    "        print(f'{country} does not have Travel Facts page')\n",
    "    else:\n",
    "        country_response = BeautifulSoup(country_link.text, 'html.parser')\n",
    "        title = country_response.find_all('h3' ,attrs = {'mt30'})#get titles of all the travel facts\n",
    "        content = country_response.select('p')[:len(title)]#get content of all the travel facts\n",
    "\n",
    "        for i in range(len(title)):\n",
    "            title_ls.append(title[i].getText())\n",
    "            content_ls.append(content[i].getText())   \n",
    "        tipping_ls.append(content_ls[title_ls.index('Tipping Guidelines')])#get the content of Tipping Guidelines\n",
    "\n",
    "dict(zip(lucky_country, tipping_ls))"
   ]
  }
 ],
 "metadata": {
  "kernelspec": {
   "display_name": "Python 3 (ipykernel)",
   "language": "python",
   "name": "python3"
  },
  "language_info": {
   "codemirror_mode": {
    "name": "ipython",
    "version": 3
   },
   "file_extension": ".py",
   "mimetype": "text/x-python",
   "name": "python",
   "nbconvert_exporter": "python",
   "pygments_lexer": "ipython3",
   "version": "3.9.13"
  }
 },
 "nbformat": 4,
 "nbformat_minor": 5
}
