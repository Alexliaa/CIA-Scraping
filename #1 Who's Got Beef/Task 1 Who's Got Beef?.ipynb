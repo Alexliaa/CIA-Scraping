{
 "cells": [
  {
   "cell_type": "markdown",
   "id": "8bbbe876",
   "metadata": {},
   "source": [
    "## Task 1: Who's Got Beef?\n",
    "### The CIA has a running tab on international boundary disputes: \n",
    "https://www.cia.gov/the-world-factbook/field/disputes-international. \n",
    "Which countries seem to be involved in the most land disputes?"
   ]
  },
  {
   "cell_type": "code",
   "execution_count": 1,
   "id": "dbb560d7",
   "metadata": {},
   "outputs": [],
   "source": [
    "import pandas as pd\n",
    "from bs4 import BeautifulSoup\n",
    "import requests"
   ]
  },
  {
   "cell_type": "code",
   "execution_count": 2,
   "id": "28e6c9ff",
   "metadata": {},
   "outputs": [],
   "source": [
    "beef_link = requests.get('https://www.cia.gov/the-world-factbook/field/disputes-international')\n",
    "beef_name = BeautifulSoup(beef_link.content, 'html.parser')"
   ]
  },
  {
   "cell_type": "markdown",
   "id": "c5aa58a0",
   "metadata": {},
   "source": [
    "Firstly, let's scrape country names and the content of disputes of each country and store them in a data frame."
   ]
  },
  {
   "cell_type": "code",
   "execution_count": 3,
   "id": "dc603fa4",
   "metadata": {},
   "outputs": [],
   "source": [
    "# scrape country names\n",
    "country_name = beef_name.select(\"h2\")\n",
    "\n",
    "# scrape the content of disputes of each country\n",
    "country_beef = beef_name.select('li')[4:261]"
   ]
  },
  {
   "cell_type": "code",
   "execution_count": 4,
   "id": "632d72c8",
   "metadata": {},
   "outputs": [],
   "source": [
    "table_names = []\n",
    "table_beef = []\n",
    "\n",
    "# store them in two lists\n",
    "for i in range(len(country_name)):\n",
    "    table_names.append(country_name[i].getText())\n",
    "    \n",
    "for i in range(len(country_beef)):\n",
    "    table_beef.append(country_beef[i].getText())\n",
    "\n",
    "# combine these two lists into a dataframe    \n",
    "country_df = pd.DataFrame([table_beef], columns = table_names).T\n",
    "country_df.rename(columns = {0:'beef'}, inplace = True)"
   ]
  },
  {
   "cell_type": "code",
   "execution_count": 5,
   "id": "e802ae28",
   "metadata": {},
   "outputs": [],
   "source": [
    "# slice the contents to remove the first country names which are redundant.\n",
    "for i in range(len(country_df)):\n",
    "    country_df.iloc[i,0] = country_df.iloc[i,0][len(table_names[i]):]"
   ]
  },
  {
   "cell_type": "markdown",
   "id": "e88423ae",
   "metadata": {},
   "source": [
    "Notes that there are punctuations like ':',':', and '()' in dispute contents, so let's clean the text by regular expression."
   ]
  },
  {
   "cell_type": "code",
   "execution_count": 6,
   "id": "8eec9a22",
   "metadata": {},
   "outputs": [],
   "source": [
    "country_df['beef'] = country_df.beef.str.replace('[-:.?()]', ' ', regex=True)\n",
    "country_df['beef'] = country_df.beef.str.split('(?=[A-Z][a-z])').str.join(' ')\n",
    "\n",
    "#since EU is not a country, we are supposed to remove it.\n",
    "country_df.drop(index = 'European Union', inplace = True)"
   ]
  },
  {
   "cell_type": "markdown",
   "id": "79ac4321",
   "metadata": {},
   "source": [
    "Then we are going to split the content and store them in a list. Each value in the contry_list is a list that stores the words in the dispute content of each country."
   ]
  },
  {
   "cell_type": "code",
   "execution_count": 7,
   "id": "de0f2841",
   "metadata": {},
   "outputs": [],
   "source": [
    "import re\n",
    "\n",
    "country_list = []\n",
    "for i in range(len(country_df)):\n",
    "    country_list.append(list(set(re.split('[\\s-]', country_df['beef'][i]))))"
   ]
  },
  {
   "cell_type": "markdown",
   "id": "c34b5618",
   "metadata": {},
   "source": [
    "After this, Let's count how many country names appear in each country's dspute content."
   ]
  },
  {
   "cell_type": "code",
   "execution_count": 8,
   "id": "7d0ff16e",
   "metadata": {},
   "outputs": [],
   "source": [
    "from collections import Counter\n",
    "import pycountry\n",
    "\n",
    "names = []\n",
    "abb = []\n",
    "for country in pycountry.countries:\n",
    "        names.append(country.name)\n",
    "        abb.append(country.alpha_2)\n",
    "names = names + abb + list(country_df.index)\n",
    "\n",
    "counter1 = Counter(names)\n",
    "table_number = []\n",
    "for i in range(len(country_list)):\n",
    "    counter2 = Counter(country_list[i])\n",
    "    table_number.append(sum((counter1 & counter2).values()))"
   ]
  },
  {
   "cell_type": "markdown",
   "id": "369ffa98",
   "metadata": {},
   "source": [
    "#### Finally, let's add the number of disputes into our dataframe.\n",
    "Before that, there is one last step. Since we counted each country's name as a dispute, we need to subtract one for each number that is greater than 1."
   ]
  },
  {
   "cell_type": "code",
   "execution_count": 9,
   "id": "19333d9a",
   "metadata": {
    "scrolled": false
   },
   "outputs": [
    {
     "data": {
      "text/html": [
       "<div>\n",
       "<style scoped>\n",
       "    .dataframe tbody tr th:only-of-type {\n",
       "        vertical-align: middle;\n",
       "    }\n",
       "\n",
       "    .dataframe tbody tr th {\n",
       "        vertical-align: top;\n",
       "    }\n",
       "\n",
       "    .dataframe thead th {\n",
       "        text-align: right;\n",
       "    }\n",
       "</style>\n",
       "<table border=\"1\" class=\"dataframe\">\n",
       "  <thead>\n",
       "    <tr style=\"text-align: right;\">\n",
       "      <th></th>\n",
       "      <th>beef</th>\n",
       "      <th>#disputes</th>\n",
       "    </tr>\n",
       "  </thead>\n",
       "  <tbody>\n",
       "    <tr>\n",
       "      <th>Russia</th>\n",
       "      <td>Russia remains concerned about the smuggling ...</td>\n",
       "      <td>15</td>\n",
       "    </tr>\n",
       "    <tr>\n",
       "      <th>United States</th>\n",
       "      <td>US  Antarctica  the US has made no territorial...</td>\n",
       "      <td>9</td>\n",
       "    </tr>\n",
       "    <tr>\n",
       "      <th>United Kingdom</th>\n",
       "      <td>UK  Argentina  UK rejects sovereignty talks re...</td>\n",
       "      <td>9</td>\n",
       "    </tr>\n",
       "    <tr>\n",
       "      <th>Turkey (Turkiye)</th>\n",
       "      <td>Turkey  Armenia  in 2009,  Swiss mediators fa...</td>\n",
       "      <td>9</td>\n",
       "    </tr>\n",
       "    <tr>\n",
       "      <th>Afghanistan</th>\n",
       "      <td>Afghanistan  China   None identified Afghanis...</td>\n",
       "      <td>7</td>\n",
       "    </tr>\n",
       "    <tr>\n",
       "      <th>Serbia</th>\n",
       "      <td>Serbia  Bosnia and  Herzegovina   Serbia deli...</td>\n",
       "      <td>7</td>\n",
       "    </tr>\n",
       "    <tr>\n",
       "      <th>China</th>\n",
       "      <td>China and  India continue their security and ...</td>\n",
       "      <td>7</td>\n",
       "    </tr>\n",
       "    <tr>\n",
       "      <th>Ukraine</th>\n",
       "      <td>Ukraine  Belarus  in 1997,  Ukraine and  Bela...</td>\n",
       "      <td>7</td>\n",
       "    </tr>\n",
       "    <tr>\n",
       "      <th>Malaysia</th>\n",
       "      <td>piracy remains a problem in the  Malacca  Stra...</td>\n",
       "      <td>7</td>\n",
       "    </tr>\n",
       "    <tr>\n",
       "      <th>Tanzania</th>\n",
       "      <td>Tanzania  Burundi  none identified  Tanzania ...</td>\n",
       "      <td>7</td>\n",
       "    </tr>\n",
       "  </tbody>\n",
       "</table>\n",
       "</div>"
      ],
      "text/plain": [
       "                                                               beef  #disputes\n",
       "Russia             Russia remains concerned about the smuggling ...         15\n",
       "United States     US  Antarctica  the US has made no territorial...          9\n",
       "United Kingdom    UK  Argentina  UK rejects sovereignty talks re...          9\n",
       "Turkey (Turkiye)   Turkey  Armenia  in 2009,  Swiss mediators fa...          9\n",
       "Afghanistan        Afghanistan  China   None identified Afghanis...          7\n",
       "Serbia             Serbia  Bosnia and  Herzegovina   Serbia deli...          7\n",
       "China              China and  India continue their security and ...          7\n",
       "Ukraine            Ukraine  Belarus  in 1997,  Ukraine and  Bela...          7\n",
       "Malaysia          piracy remains a problem in the  Malacca  Stra...          7\n",
       "Tanzania           Tanzania  Burundi  none identified  Tanzania ...          7"
      ]
     },
     "execution_count": 9,
     "metadata": {},
     "output_type": "execute_result"
    }
   ],
   "source": [
    "table_number = [i-1 if i > 0 else i for i in table_number]\n",
    "\n",
    "country_df['#disputes'] = table_number\n",
    "country_df.sort_values('#disputes', ascending = False).head(10)"
   ]
  }
 ],
 "metadata": {
  "kernelspec": {
   "display_name": "Python 3 (ipykernel)",
   "language": "python",
   "name": "python3"
  },
  "language_info": {
   "codemirror_mode": {
    "name": "ipython",
    "version": 3
   },
   "file_extension": ".py",
   "mimetype": "text/x-python",
   "name": "python",
   "nbconvert_exporter": "python",
   "pygments_lexer": "ipython3",
   "version": "3.9.13"
  }
 },
 "nbformat": 4,
 "nbformat_minor": 5
}
